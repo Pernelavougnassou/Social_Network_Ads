{
 "cells": [
  {
   "cell_type": "markdown",
   "id": "70d50fcf-8f84-4f88-ae50-b500677d048e",
   "metadata": {},
   "source": [
    "### Importing Data"
   ]
  },
  {
   "cell_type": "code",
   "execution_count": 32,
   "id": "c4ae9899-a0ec-4349-9cb4-5d5498261940",
   "metadata": {},
   "outputs": [],
   "source": [
    "# import the lirairies\n",
    "import  pandas as pd \n",
    "import matplotlib.pyplot as plt\n",
    "import seaborn as sns \n",
    "import numpy as np \n",
    "from sklearn.model_selection import train_test_split\n",
    "from sklearn.preprocessing import StandardScaler\n",
    "from sklearn.linear_model import LogisticRegression\n",
    "from sklearn.metrics import confusion_matrix"
   ]
  },
  {
   "cell_type": "markdown",
   "id": "57ebbab0-73f1-4209-84c5-d70ac44f0b43",
   "metadata": {
    "tags": []
   },
   "source": [
    "### Load Data "
   ]
  },
  {
   "cell_type": "code",
   "execution_count": 2,
   "id": "d8efa572-ea83-416a-be36-a802177aab1f",
   "metadata": {},
   "outputs": [],
   "source": [
    "# read the Data\n",
    "df = pd.read_csv('Social_Network_Ads.csv', sep=',')"
   ]
  },
  {
   "cell_type": "code",
   "execution_count": 3,
   "id": "2d07ca74-2d8b-4bd8-a3f6-bdc3970b0fc4",
   "metadata": {},
   "outputs": [
    {
     "data": {
      "text/html": [
       "<div>\n",
       "<style scoped>\n",
       "    .dataframe tbody tr th:only-of-type {\n",
       "        vertical-align: middle;\n",
       "    }\n",
       "\n",
       "    .dataframe tbody tr th {\n",
       "        vertical-align: top;\n",
       "    }\n",
       "\n",
       "    .dataframe thead th {\n",
       "        text-align: right;\n",
       "    }\n",
       "</style>\n",
       "<table border=\"1\" class=\"dataframe\">\n",
       "  <thead>\n",
       "    <tr style=\"text-align: right;\">\n",
       "      <th></th>\n",
       "      <th>User ID</th>\n",
       "      <th>Gender</th>\n",
       "      <th>Age</th>\n",
       "      <th>EstimatedSalary</th>\n",
       "      <th>Purchased</th>\n",
       "    </tr>\n",
       "  </thead>\n",
       "  <tbody>\n",
       "    <tr>\n",
       "      <th>0</th>\n",
       "      <td>15624510</td>\n",
       "      <td>Male</td>\n",
       "      <td>19</td>\n",
       "      <td>19000</td>\n",
       "      <td>0</td>\n",
       "    </tr>\n",
       "    <tr>\n",
       "      <th>1</th>\n",
       "      <td>15810944</td>\n",
       "      <td>Male</td>\n",
       "      <td>35</td>\n",
       "      <td>20000</td>\n",
       "      <td>0</td>\n",
       "    </tr>\n",
       "    <tr>\n",
       "      <th>2</th>\n",
       "      <td>15668575</td>\n",
       "      <td>Female</td>\n",
       "      <td>26</td>\n",
       "      <td>43000</td>\n",
       "      <td>0</td>\n",
       "    </tr>\n",
       "    <tr>\n",
       "      <th>3</th>\n",
       "      <td>15603246</td>\n",
       "      <td>Female</td>\n",
       "      <td>27</td>\n",
       "      <td>57000</td>\n",
       "      <td>0</td>\n",
       "    </tr>\n",
       "    <tr>\n",
       "      <th>4</th>\n",
       "      <td>15804002</td>\n",
       "      <td>Male</td>\n",
       "      <td>19</td>\n",
       "      <td>76000</td>\n",
       "      <td>0</td>\n",
       "    </tr>\n",
       "  </tbody>\n",
       "</table>\n",
       "</div>"
      ],
      "text/plain": [
       "    User ID  Gender  Age  EstimatedSalary  Purchased\n",
       "0  15624510    Male   19            19000          0\n",
       "1  15810944    Male   35            20000          0\n",
       "2  15668575  Female   26            43000          0\n",
       "3  15603246  Female   27            57000          0\n",
       "4  15804002    Male   19            76000          0"
      ]
     },
     "execution_count": 3,
     "metadata": {},
     "output_type": "execute_result"
    }
   ],
   "source": [
    "#print \n",
    "df.head()"
   ]
  },
  {
   "cell_type": "code",
   "execution_count": 4,
   "id": "b48500b3-cee4-4283-ad8a-9538024e18f7",
   "metadata": {},
   "outputs": [
    {
     "data": {
      "text/html": [
       "<div>\n",
       "<style scoped>\n",
       "    .dataframe tbody tr th:only-of-type {\n",
       "        vertical-align: middle;\n",
       "    }\n",
       "\n",
       "    .dataframe tbody tr th {\n",
       "        vertical-align: top;\n",
       "    }\n",
       "\n",
       "    .dataframe thead th {\n",
       "        text-align: right;\n",
       "    }\n",
       "</style>\n",
       "<table border=\"1\" class=\"dataframe\">\n",
       "  <thead>\n",
       "    <tr style=\"text-align: right;\">\n",
       "      <th></th>\n",
       "      <th>User ID</th>\n",
       "      <th>Age</th>\n",
       "      <th>EstimatedSalary</th>\n",
       "      <th>Purchased</th>\n",
       "    </tr>\n",
       "  </thead>\n",
       "  <tbody>\n",
       "    <tr>\n",
       "      <th>count</th>\n",
       "      <td>4.000000e+02</td>\n",
       "      <td>400.000000</td>\n",
       "      <td>400.000000</td>\n",
       "      <td>400.000000</td>\n",
       "    </tr>\n",
       "    <tr>\n",
       "      <th>mean</th>\n",
       "      <td>1.569154e+07</td>\n",
       "      <td>37.655000</td>\n",
       "      <td>69742.500000</td>\n",
       "      <td>0.357500</td>\n",
       "    </tr>\n",
       "    <tr>\n",
       "      <th>std</th>\n",
       "      <td>7.165832e+04</td>\n",
       "      <td>10.482877</td>\n",
       "      <td>34096.960282</td>\n",
       "      <td>0.479864</td>\n",
       "    </tr>\n",
       "    <tr>\n",
       "      <th>min</th>\n",
       "      <td>1.556669e+07</td>\n",
       "      <td>18.000000</td>\n",
       "      <td>15000.000000</td>\n",
       "      <td>0.000000</td>\n",
       "    </tr>\n",
       "    <tr>\n",
       "      <th>25%</th>\n",
       "      <td>1.562676e+07</td>\n",
       "      <td>29.750000</td>\n",
       "      <td>43000.000000</td>\n",
       "      <td>0.000000</td>\n",
       "    </tr>\n",
       "    <tr>\n",
       "      <th>50%</th>\n",
       "      <td>1.569434e+07</td>\n",
       "      <td>37.000000</td>\n",
       "      <td>70000.000000</td>\n",
       "      <td>0.000000</td>\n",
       "    </tr>\n",
       "    <tr>\n",
       "      <th>75%</th>\n",
       "      <td>1.575036e+07</td>\n",
       "      <td>46.000000</td>\n",
       "      <td>88000.000000</td>\n",
       "      <td>1.000000</td>\n",
       "    </tr>\n",
       "    <tr>\n",
       "      <th>max</th>\n",
       "      <td>1.581524e+07</td>\n",
       "      <td>60.000000</td>\n",
       "      <td>150000.000000</td>\n",
       "      <td>1.000000</td>\n",
       "    </tr>\n",
       "  </tbody>\n",
       "</table>\n",
       "</div>"
      ],
      "text/plain": [
       "            User ID         Age  EstimatedSalary   Purchased\n",
       "count  4.000000e+02  400.000000       400.000000  400.000000\n",
       "mean   1.569154e+07   37.655000     69742.500000    0.357500\n",
       "std    7.165832e+04   10.482877     34096.960282    0.479864\n",
       "min    1.556669e+07   18.000000     15000.000000    0.000000\n",
       "25%    1.562676e+07   29.750000     43000.000000    0.000000\n",
       "50%    1.569434e+07   37.000000     70000.000000    0.000000\n",
       "75%    1.575036e+07   46.000000     88000.000000    1.000000\n",
       "max    1.581524e+07   60.000000    150000.000000    1.000000"
      ]
     },
     "execution_count": 4,
     "metadata": {},
     "output_type": "execute_result"
    }
   ],
   "source": [
    "df.describe()"
   ]
  },
  {
   "cell_type": "code",
   "execution_count": 5,
   "id": "ed2ef997-1787-42e3-a943-dea46f8f32c3",
   "metadata": {},
   "outputs": [
    {
     "name": "stdout",
     "output_type": "stream",
     "text": [
      "<class 'pandas.core.frame.DataFrame'>\n",
      "RangeIndex: 400 entries, 0 to 399\n",
      "Data columns (total 5 columns):\n",
      " #   Column           Non-Null Count  Dtype \n",
      "---  ------           --------------  ----- \n",
      " 0   User ID          400 non-null    int64 \n",
      " 1   Gender           400 non-null    object\n",
      " 2   Age              400 non-null    int64 \n",
      " 3   EstimatedSalary  400 non-null    int64 \n",
      " 4   Purchased        400 non-null    int64 \n",
      "dtypes: int64(4), object(1)\n",
      "memory usage: 15.8+ KB\n"
     ]
    }
   ],
   "source": [
    "df.info()"
   ]
  },
  {
   "cell_type": "markdown",
   "id": "e96b320e-a814-4bd7-86df-171c5ad99c18",
   "metadata": {},
   "source": [
    "### Data Modeling & Unseen data"
   ]
  },
  {
   "cell_type": "code",
   "execution_count": 6,
   "id": "bf86294b-958e-4d39-b7b5-4bd63f3bb3ff",
   "metadata": {},
   "outputs": [],
   "source": [
    "data = df.sample(frac=0.60, random_state=786)\n",
    "data_unseen = df.drop(data.index)"
   ]
  },
  {
   "cell_type": "code",
   "execution_count": 7,
   "id": "1492be65-fe61-47b5-8441-16e9293df9f7",
   "metadata": {},
   "outputs": [
    {
     "name": "stdout",
     "output_type": "stream",
     "text": [
      "Data for Modeling: (240, 5)\n",
      "Unseen Data for Prediction : (160, 5)\n"
     ]
    }
   ],
   "source": [
    "data.reset_index(drop=True, inplace=True)\n",
    "data_unseen.reset_index(drop=True, inplace=True)\n",
    "\n",
    "print('Data for Modeling: ' + str(data.shape))\n",
    "print('Unseen Data for Prediction : ' + str(data_unseen.shape))"
   ]
  },
  {
   "cell_type": "markdown",
   "id": "280a8fae-3ff2-4494-8357-eb125fa9f379",
   "metadata": {},
   "source": [
    "### Select the Features"
   ]
  },
  {
   "cell_type": "code",
   "execution_count": 19,
   "id": "3df3a88f-7fee-45ec-a4eb-cb3d20390e9d",
   "metadata": {},
   "outputs": [],
   "source": [
    "# Features\n",
    "# la méthode iloc cible une variable ... \n",
    "# sans la spécification values, la variable se comporte comme un dataframe\n",
    "# avec la spécification values, la variable se comporte comme un tableau numpy\n",
    "x = data.iloc[:, [2,3]].values\n",
    "y = data.iloc[:,4].values"
   ]
  },
  {
   "cell_type": "code",
   "execution_count": 31,
   "id": "7818a635-3f49-43db-a3f7-ac7d375504ef",
   "metadata": {},
   "outputs": [
    {
     "data": {
      "text/plain": [
       "array([[    49,  39000],\n",
       "       [    37, 137000],\n",
       "       [    54, 104000],\n",
       "       [    24,  89000],\n",
       "       [    22,  63000],\n",
       "       [    33,  41000],\n",
       "       [    44,  39000],\n",
       "       [    46,  32000],\n",
       "       [    24,  55000],\n",
       "       [    41,  72000],\n",
       "       [    20,  49000],\n",
       "       [    32, 120000],\n",
       "       [    39,  79000],\n",
       "       [    47,  49000],\n",
       "       [    47, 107000],\n",
       "       [    48,  90000],\n",
       "       [    25,  87000],\n",
       "       [    41,  72000],\n",
       "       [    31,  18000],\n",
       "       [    33,  28000],\n",
       "       [    26,  86000],\n",
       "       [    39,  96000],\n",
       "       [    59,  88000],\n",
       "       [    31,  58000],\n",
       "       [    38,  50000],\n",
       "       [    41,  87000],\n",
       "       [    36,  60000],\n",
       "       [    35, 108000],\n",
       "       [    40,  72000],\n",
       "       [    29,  61000],\n",
       "       [    27,  58000],\n",
       "       [    28,  59000],\n",
       "       [    42,  80000],\n",
       "       [    35,  27000],\n",
       "       [    38,  51000],\n",
       "       [    35,  72000],\n",
       "       [    39,  42000],\n",
       "       [    42, 108000],\n",
       "       [    30,  79000],\n",
       "       [    52, 150000],\n",
       "       [    46, 117000],\n",
       "       [    27,  31000],\n",
       "       [    59,  29000],\n",
       "       [    38,  61000],\n",
       "       [    46,  82000],\n",
       "       [    34,  43000],\n",
       "       [    60,  46000],\n",
       "       [    46,  59000],\n",
       "       [    37,  75000],\n",
       "       [    59,  76000],\n",
       "       [    42,  54000],\n",
       "       [    48,  74000],\n",
       "       [    35,  60000],\n",
       "       [    30,  89000],\n",
       "       [    32, 100000],\n",
       "       [    27,  96000],\n",
       "       [    42,  65000],\n",
       "       [    29,  43000],\n",
       "       [    36,  50000],\n",
       "       [    35,  50000],\n",
       "       [    29,  83000],\n",
       "       [    19,  21000],\n",
       "       [    19,  76000],\n",
       "       [    35,  55000],\n",
       "       [    49,  65000],\n",
       "       [    26,  16000],\n",
       "       [    40,  75000],\n",
       "       [    35, 147000],\n",
       "       [    27,  54000],\n",
       "       [    47,  51000],\n",
       "       [    43, 133000],\n",
       "       [    42,  75000],\n",
       "       [    23,  48000],\n",
       "       [    41,  80000],\n",
       "       [    26,  80000],\n",
       "       [    35,  20000],\n",
       "       [    23,  20000],\n",
       "       [    41,  72000],\n",
       "       [    42,  80000],\n",
       "       [    57,  26000],\n",
       "       [    27,  17000],\n",
       "       [    35,  71000],\n",
       "       [    33,  69000],\n",
       "       [    60,  83000],\n",
       "       [    31,  66000],\n",
       "       [    41,  52000],\n",
       "       [    46,  88000],\n",
       "       [    22,  55000],\n",
       "       [    35,  61000],\n",
       "       [    20,  82000],\n",
       "       [    18,  86000],\n",
       "       [    34, 112000],\n",
       "       [    35,  25000],\n",
       "       [    35,  38000],\n",
       "       [    60,  42000],\n",
       "       [    33,  60000],\n",
       "       [    40,  61000],\n",
       "       [    35,  72000],\n",
       "       [    29, 148000],\n",
       "       [    41,  45000],\n",
       "       [    35,  39000],\n",
       "       [    40,  71000],\n",
       "       [    19,  19000],\n",
       "       [    34,  25000],\n",
       "       [    20,  23000],\n",
       "       [    38,  55000],\n",
       "       [    48,  41000],\n",
       "       [    48,  33000],\n",
       "       [    19,  85000],\n",
       "       [    46,  74000],\n",
       "       [    30,  15000],\n",
       "       [    20,  36000],\n",
       "       [    49,  28000],\n",
       "       [    27,  20000],\n",
       "       [    41,  79000],\n",
       "       [    46,  22000],\n",
       "       [    28,  55000],\n",
       "       [    28,  32000],\n",
       "       [    40,  57000],\n",
       "       [    37,  52000],\n",
       "       [    40,  78000],\n",
       "       [    32, 117000],\n",
       "       [    58, 101000],\n",
       "       [    53, 143000],\n",
       "       [    31,  15000],\n",
       "       [    26,  72000],\n",
       "       [    53,  82000],\n",
       "       [    38,  65000],\n",
       "       [    38,  80000],\n",
       "       [    29,  28000],\n",
       "       [    30, 107000],\n",
       "       [    34,  72000],\n",
       "       [    37,  71000],\n",
       "       [    55, 130000],\n",
       "       [    26,  15000],\n",
       "       [    32,  86000],\n",
       "       [    42,  53000],\n",
       "       [    50,  20000],\n",
       "       [    24,  32000],\n",
       "       [    53,  34000],\n",
       "       [    39,  75000],\n",
       "       [    25,  22000],\n",
       "       [    48,  96000],\n",
       "       [    43, 129000],\n",
       "       [    37,  57000],\n",
       "       [    26,  15000],\n",
       "       [    32, 135000],\n",
       "       [    23,  28000],\n",
       "       [    31,  34000],\n",
       "       [    27,  84000],\n",
       "       [    53,  72000],\n",
       "       [    41,  52000],\n",
       "       [    35,  59000],\n",
       "       [    41,  59000],\n",
       "       [    54, 108000],\n",
       "       [    31, 118000],\n",
       "       [    56, 104000],\n",
       "       [    36, 118000],\n",
       "       [    27,  89000],\n",
       "       [    33,  43000],\n",
       "       [    40,  65000],\n",
       "       [    37,  70000],\n",
       "       [    52, 114000],\n",
       "       [    27,  90000],\n",
       "       [    28,  87000],\n",
       "       [    25,  90000],\n",
       "       [    50,  88000],\n",
       "       [    50,  44000],\n",
       "       [    42,  70000],\n",
       "       [    36,  33000],\n",
       "       [    48, 131000],\n",
       "       [    48, 141000],\n",
       "       [    24,  19000],\n",
       "       [    39,  73000],\n",
       "       [    47, 105000],\n",
       "       [    18,  44000],\n",
       "       [    40,  57000],\n",
       "       [    58, 144000],\n",
       "       [    22,  18000],\n",
       "       [    26,  35000],\n",
       "       [    47,  43000],\n",
       "       [    36,  52000],\n",
       "       [    24,  58000],\n",
       "       [    20,  86000],\n",
       "       [    31,  89000],\n",
       "       [    59, 130000],\n",
       "       [    27, 137000],\n",
       "       [    58,  95000],\n",
       "       [    22,  81000],\n",
       "       [    48,  33000],\n",
       "       [    38,  59000],\n",
       "       [    31,  71000],\n",
       "       [    33, 113000],\n",
       "       [    51, 134000],\n",
       "       [    36,  75000],\n",
       "       [    25,  80000],\n",
       "       [    49,  88000],\n",
       "       [    35,  97000],\n",
       "       [    46,  23000],\n",
       "       [    23,  63000],\n",
       "       [    19,  26000],\n",
       "       [    23,  82000],\n",
       "       [    48,  29000],\n",
       "       [    41,  72000],\n",
       "       [    37,  93000],\n",
       "       [    26,  30000],\n",
       "       [    26,  52000],\n",
       "       [    26,  80000],\n",
       "       [    31,  68000],\n",
       "       [    57,  60000],\n",
       "       [    60,  42000],\n",
       "       [    32, 117000],\n",
       "       [    41,  51000],\n",
       "       [    36,  99000],\n",
       "       [    47,  30000],\n",
       "       [    55,  39000],\n",
       "       [    47,  47000],\n",
       "       [    37,  55000],\n",
       "       [    42,  65000],\n",
       "       [    54,  70000],\n",
       "       [    38,  61000],\n",
       "       [    39,  61000],\n",
       "       [    42, 104000],\n",
       "       [    40,  60000],\n",
       "       [    41,  60000],\n",
       "       [    24,  27000],\n",
       "       [    47, 144000],\n",
       "       [    37, 144000],\n",
       "       [    19,  25000],\n",
       "       [    35,  65000],\n",
       "       [    24,  23000],\n",
       "       [    45,  79000],\n",
       "       [    36, 126000],\n",
       "       [    57,  33000],\n",
       "       [    29,  47000],\n",
       "       [    34, 115000],\n",
       "       [    47,  25000],\n",
       "       [    30, 116000],\n",
       "       [    49,  89000],\n",
       "       [    26,  81000]], dtype=int64)"
      ]
     },
     "execution_count": 31,
     "metadata": {},
     "output_type": "execute_result"
    }
   ],
   "source": [
    "x"
   ]
  },
  {
   "cell_type": "markdown",
   "id": "421b37cb-cfc8-4b66-8696-576e8d3318fe",
   "metadata": {},
   "source": [
    "### Split our Df"
   ]
  },
  {
   "cell_type": "markdown",
   "id": "05b4030f-a838-4d0c-92d7-d9d0ca5645f9",
   "metadata": {},
   "source": [
    "sklearn = scikit-learn"
   ]
  },
  {
   "cell_type": "code",
   "execution_count": 21,
   "id": "9d303d8c-5c41-4752-b2d0-14b181e481a2",
   "metadata": {},
   "outputs": [],
   "source": [
    "#splitting the dataset into the training set and the test set\n",
    "x_train, x_test, y_train, y_test = train_test_split(x, y, test_size = 0.20, random_state = 0)"
   ]
  },
  {
   "cell_type": "markdown",
   "id": "e74486e4-fee3-4b09-aa59-38bd86360be8",
   "metadata": {},
   "source": [
    "### Normalize Data"
   ]
  },
  {
   "cell_type": "code",
   "execution_count": 22,
   "id": "1091b946-b8c9-47bf-bfb7-8a7c3203a13d",
   "metadata": {},
   "outputs": [],
   "source": [
    "#Feature Scaling\n",
    "sc_X = StandardScaler()\n",
    "x_train = sc_X.fit_transform(x_train)\n",
    "x_test = sc_X.transform(x_test)\n",
    "x_unseen =  sc_X.transform(data_unseen[[\"Age\", \"EstimatedSalary\"]])"
   ]
  },
  {
   "cell_type": "markdown",
   "id": "9f1ad693-4886-409b-a09d-bcfc2b4f5ec2",
   "metadata": {},
   "source": [
    "### Logistic Regression"
   ]
  },
  {
   "cell_type": "code",
   "execution_count": 24,
   "id": "677f6509-9b2a-460b-8d63-a746f12ea544",
   "metadata": {},
   "outputs": [
    {
     "data": {
      "text/plain": [
       "LogisticRegression(random_state=0)"
      ]
     },
     "execution_count": 24,
     "metadata": {},
     "output_type": "execute_result"
    }
   ],
   "source": [
    "#Fitting Logistic Regression on the training Set \n",
    "classifier = LogisticRegression(random_state = 0)\n",
    "classifier.fit(x_train, y_train)"
   ]
  },
  {
   "cell_type": "markdown",
   "id": "5ce0ef67-95d7-490e-b380-9976560f0965",
   "metadata": {},
   "source": [
    "### SCORE AND PREDICT "
   ]
  },
  {
   "cell_type": "code",
   "execution_count": 26,
   "id": "cd5dda74-9642-4919-b5aa-89c35f276b6a",
   "metadata": {},
   "outputs": [],
   "source": [
    "#predicting the Test Set results\n",
    "y_prediction = classifier.predict(x_test)\n",
    "prevision = pd.DataFrame({\"True data\": y_test, \"Predict data\": y_prediction})"
   ]
  },
  {
   "cell_type": "code",
   "execution_count": 27,
   "id": "6eb922c8-f8bc-44fd-96a4-4eda86ceaec6",
   "metadata": {},
   "outputs": [
    {
     "data": {
      "text/html": [
       "<div>\n",
       "<style scoped>\n",
       "    .dataframe tbody tr th:only-of-type {\n",
       "        vertical-align: middle;\n",
       "    }\n",
       "\n",
       "    .dataframe tbody tr th {\n",
       "        vertical-align: top;\n",
       "    }\n",
       "\n",
       "    .dataframe thead th {\n",
       "        text-align: right;\n",
       "    }\n",
       "</style>\n",
       "<table border=\"1\" class=\"dataframe\">\n",
       "  <thead>\n",
       "    <tr style=\"text-align: right;\">\n",
       "      <th></th>\n",
       "      <th>True data</th>\n",
       "      <th>Predict data</th>\n",
       "    </tr>\n",
       "  </thead>\n",
       "  <tbody>\n",
       "    <tr>\n",
       "      <th>0</th>\n",
       "      <td>0</td>\n",
       "      <td>1</td>\n",
       "    </tr>\n",
       "    <tr>\n",
       "      <th>1</th>\n",
       "      <td>0</td>\n",
       "      <td>0</td>\n",
       "    </tr>\n",
       "    <tr>\n",
       "      <th>2</th>\n",
       "      <td>1</td>\n",
       "      <td>1</td>\n",
       "    </tr>\n",
       "    <tr>\n",
       "      <th>3</th>\n",
       "      <td>0</td>\n",
       "      <td>0</td>\n",
       "    </tr>\n",
       "    <tr>\n",
       "      <th>4</th>\n",
       "      <td>0</td>\n",
       "      <td>0</td>\n",
       "    </tr>\n",
       "  </tbody>\n",
       "</table>\n",
       "</div>"
      ],
      "text/plain": [
       "   True data  Predict data\n",
       "0          0             1\n",
       "1          0             0\n",
       "2          1             1\n",
       "3          0             0\n",
       "4          0             0"
      ]
     },
     "execution_count": 27,
     "metadata": {},
     "output_type": "execute_result"
    }
   ],
   "source": [
    "prevision.head()"
   ]
  },
  {
   "cell_type": "code",
   "execution_count": 28,
   "id": "a9f9b038-7f00-44cc-8cb8-f97a12af72dc",
   "metadata": {},
   "outputs": [],
   "source": [
    "#score\n",
    "accuracy_log = classifier.score(x_test, y_test)"
   ]
  },
  {
   "cell_type": "code",
   "execution_count": 29,
   "id": "bf2e3ffe-d599-493f-8a3d-ab212873ef0e",
   "metadata": {},
   "outputs": [
    {
     "data": {
      "text/plain": [
       "0.8333333333333334"
      ]
     },
     "execution_count": 29,
     "metadata": {},
     "output_type": "execute_result"
    }
   ],
   "source": [
    "accuracy_log"
   ]
  },
  {
   "cell_type": "markdown",
   "id": "17d6614a-9bae-4079-bd4d-758a51ab765f",
   "metadata": {},
   "source": [
    "### Evaluation Model"
   ]
  },
  {
   "cell_type": "code",
   "execution_count": 34,
   "id": "eef1a0a1-9157-448c-b677-3e8169237583",
   "metadata": {},
   "outputs": [
    {
     "data": {
      "text/plain": [
       "<AxesSubplot:>"
      ]
     },
     "execution_count": 34,
     "metadata": {},
     "output_type": "execute_result"
    },
    {
     "data": {
      "image/png": "[encoded data removed]",
      "text/plain": [
       "<Figure size 432x288 with 2 Axes>"
      ]
     },
     "metadata": {
      "needs_background": "light"
     },
     "output_type": "display_data"
    }
   ],
   "source": [
    "# evaluate our model: matrice de confusion \n",
    "cm = confusion_matrix(y_test, y_prediction)\n",
    "# we vizualize \n",
    "sns.heatmap(cm, annot=True)"
   ]
  },
  {
   "cell_type": "markdown",
   "id": "ae28aa7c-eebc-47f5-83db-d29dad1a2c04",
   "metadata": {},
   "source": [
    "### Save Model"
   ]
  },
  {
   "cell_type": "code",
   "execution_count": 39,
   "id": "f34ee3d4-7ae0-4b13-8239-0f33f2c08064",
   "metadata": {},
   "outputs": [],
   "source": [
    "# save the model from disk\n",
    "import pickle\n",
    "filename = 'finalized_model.sav'"
   ]
  },
  {
   "cell_type": "code",
   "execution_count": 41,
   "id": "f789c700-5074-403c-bd5a-3932ba0d7d2b",
   "metadata": {},
   "outputs": [],
   "source": [
    "pickle.dump(classifier, open(filename, 'wb'))"
   ]
  },
  {
   "cell_type": "markdown",
   "id": "e0bad4b0-911f-4493-b298-5c055ebac15f",
   "metadata": {},
   "source": [
    "### Load Model "
   ]
  },
  {
   "cell_type": "code",
   "execution_count": 42,
   "id": "bf6a220e-e39a-4242-9ecc-f919bb9ec564",
   "metadata": {},
   "outputs": [
    {
     "name": "stdout",
     "output_type": "stream",
     "text": [
      "0.8333333333333334\n"
     ]
    }
   ],
   "source": [
    "#Load the model from disk\n",
    "loaded_model = pickle.load(open(filename, 'rb'))\n",
    "result = loaded_model.score(x_test, y_test)\n",
    "print(result)"
   ]
  },
  {
   "cell_type": "markdown",
   "id": "003fa1d7-a69d-43b0-bce0-6a5ee2aea76e",
   "metadata": {},
   "source": [
    "### Predict Unseen "
   ]
  },
  {
   "cell_type": "code",
   "execution_count": 43,
   "id": "64408a16-507f-48de-82e5-c42ada892cd5",
   "metadata": {},
   "outputs": [],
   "source": [
    "# predication an another dataset\n",
    "y_unseen_predicted = loaded_model.predict(x_unseen)\n",
    "data_unseen[\"prediction\"] = y_unseen_predicted"
   ]
  },
  {
   "cell_type": "code",
   "execution_count": 44,
   "id": "13f57b0f-c6ec-42f9-8343-ac34923103c9",
   "metadata": {},
   "outputs": [
    {
     "data": {
      "text/html": [
       "<div>\n",
       "<style scoped>\n",
       "    .dataframe tbody tr th:only-of-type {\n",
       "        vertical-align: middle;\n",
       "    }\n",
       "\n",
       "    .dataframe tbody tr th {\n",
       "        vertical-align: top;\n",
       "    }\n",
       "\n",
       "    .dataframe thead th {\n",
       "        text-align: right;\n",
       "    }\n",
       "</style>\n",
       "<table border=\"1\" class=\"dataframe\">\n",
       "  <thead>\n",
       "    <tr style=\"text-align: right;\">\n",
       "      <th></th>\n",
       "      <th>User ID</th>\n",
       "      <th>Gender</th>\n",
       "      <th>Age</th>\n",
       "      <th>EstimatedSalary</th>\n",
       "      <th>Purchased</th>\n",
       "      <th>prediction</th>\n",
       "    </tr>\n",
       "  </thead>\n",
       "  <tbody>\n",
       "    <tr>\n",
       "      <th>0</th>\n",
       "      <td>15668575</td>\n",
       "      <td>Female</td>\n",
       "      <td>26</td>\n",
       "      <td>43000</td>\n",
       "      <td>0</td>\n",
       "      <td>0</td>\n",
       "    </tr>\n",
       "    <tr>\n",
       "      <th>1</th>\n",
       "      <td>15603246</td>\n",
       "      <td>Female</td>\n",
       "      <td>27</td>\n",
       "      <td>57000</td>\n",
       "      <td>0</td>\n",
       "      <td>0</td>\n",
       "    </tr>\n",
       "    <tr>\n",
       "      <th>2</th>\n",
       "      <td>15728773</td>\n",
       "      <td>Male</td>\n",
       "      <td>27</td>\n",
       "      <td>58000</td>\n",
       "      <td>0</td>\n",
       "      <td>0</td>\n",
       "    </tr>\n",
       "    <tr>\n",
       "      <th>3</th>\n",
       "      <td>15694829</td>\n",
       "      <td>Female</td>\n",
       "      <td>32</td>\n",
       "      <td>150000</td>\n",
       "      <td>1</td>\n",
       "      <td>1</td>\n",
       "    </tr>\n",
       "    <tr>\n",
       "      <th>4</th>\n",
       "      <td>15600575</td>\n",
       "      <td>Male</td>\n",
       "      <td>25</td>\n",
       "      <td>33000</td>\n",
       "      <td>0</td>\n",
       "      <td>0</td>\n",
       "    </tr>\n",
       "  </tbody>\n",
       "</table>\n",
       "</div>"
      ],
      "text/plain": [
       "    User ID  Gender  Age  EstimatedSalary  Purchased  prediction\n",
       "0  15668575  Female   26            43000          0           0\n",
       "1  15603246  Female   27            57000          0           0\n",
       "2  15728773    Male   27            58000          0           0\n",
       "3  15694829  Female   32           150000          1           1\n",
       "4  15600575    Male   25            33000          0           0"
      ]
     },
     "execution_count": 44,
     "metadata": {},
     "output_type": "execute_result"
    }
   ],
   "source": [
    "#display \n",
    "data_unseen.head()"
   ]
  },
  {
   "cell_type": "markdown",
   "id": "590c0601-e4bd-4272-a953-2ae679b37226",
   "metadata": {},
   "source": [
    "END!!"
   ]
  }
 ],
 "metadata": {
  "kernelspec": {
   "display_name": "Python 3 (ipykernel)",
   "language": "python",
   "name": "python3"
  },
  "language_info": {
   "codemirror_mode": {
    "name": "ipython",
    "version": 3
   },
   "file_extension": ".py",
   "mimetype": "text/x-python",
   "name": "python",
   "nbconvert_exporter": "python",
   "pygments_lexer": "ipython3",
   "version": "3.9.7"
  }
 },
 "nbformat": 4,
 "nbformat_minor": 5
}
